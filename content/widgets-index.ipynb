{
  "cells": [
    {
      "cell_type": "markdown",
      "metadata": {
        "tags": [
          "remove_cell"
        ]
      },
      "source": "# ウィジェットのデモンストレーション"
    },
    {
      "cell_type": "markdown",
      "metadata": {},
      "source": "実験できる実用的なコードを提供するだけでなく、本ドキュメントは特定の概念を説明するのに役立つ多くのウィジェットも提供します。 ここでは、それらをインデックスとして提供しています。 各セルを実行してウィジェットを操作します。\n\n**注意：** コードセルの左下隅にある 「Try」 を押すか、[IBM Quantum Experience](https://quantum-computing.ibm.com/jupyter/user/qiskit-textbook/content/widgets-index.ipynb) でこのページを表示して、対話機能を有効にする必要があります。\n\n### インタラクティブコード\n\n本ドキュメントの最も重要なインタラクティブ要素は、コードを変更して実験する機能です。 これは本ドキュメントのWebページで直接可能ですが、Jupyterノートブックとして表示して、セルを追加したり、変更を保存したりすることもできます。 インタラクティブなPythonコードでは、[ipywidgets](https://ipywidgets.readthedocs.io/en/latest/) を介したウィジェットも使用できます。以降、Qiskit Textbookが提供するウィジェットの一部を紹介します。"
    },
    {
      "cell_type": "code",
      "execution_count": 10,
      "metadata": {
        "trusted": true
      },
      "outputs": [
        {
          "name": "stdout",
          "output_type": "stream",
          "text": "This is code works!\n"
        }
      ],
      "source": "# Click 'try' then 'run' to see the output\n#「try」をクリックしてから「run」をクリックして出力を確認します\nprint(\"This is code works!\")"
    },
    {
      "cell_type": "markdown",
      "metadata": {},
      "source": "### ゲートデモ\n\nこのウィジェットは、ブロッホ球を通して示される、量子ビットに対するいくつかのゲートの効果を示しています。 [シングル量子ビットゲート](https://qiskit.org/textbook/ch-states/single-qubit-gates.html)で多く使用されています。"
    },
    {
      "cell_type": "code",
      "execution_count": 11,
      "metadata": {
        "trusted": true
      },
      "outputs": [
        {
          "data": {
            "application/vnd.jupyter.widget-view+json": {
              "model_id": "9a38ed6261b646d0af5d900e2599e8fa",
              "version_major": 2,
              "version_minor": 0
            },
            "text/plain": "VBox(children=(HBox(children=(Button(description='I', layout=Layout(height='3em', width='3em'), style=ButtonSt…"
          },
          "metadata": {},
          "output_type": "display_data"
        },
        {
          "data": {
            "application/vnd.jupyter.widget-view+json": {
              "model_id": "430c63517b2841b1803ab03d2f838972",
              "version_major": 2,
              "version_minor": 0
            },
            "text/plain": "Image(value=b'\\x89PNG\\r\\n\\x1a\\n\\x00\\x00\\x00\\rIHDR\\x00\\x00\\x01\\xf8\\x00\\x00\\x01\\xf8\\x08\\x06\\x00\\x00\\x00\\xa6(\\xff…"
          },
          "metadata": {},
          "output_type": "display_data"
        }
      ],
      "source": "from qiskit_textbook.widgets import gate_demo\ngate_demo()"
    },
    {
      "cell_type": "markdown",
      "metadata": {},
      "source": "### バイナリデモンストレーション\n\nこのシンプルなウィジェットを使用すると、2進数を操作できます。 [原子の計算](https://qiskit.org/textbook/ch-states/atoms-computation.html)にあります"
    },
    {
      "cell_type": "code",
      "execution_count": 12,
      "metadata": {
        "trusted": true
      },
      "outputs": [
        {
          "data": {
            "application/vnd.jupyter.widget-view+json": {
              "model_id": "9adad58ee921487fbd291e0fcf41775c",
              "version_major": 2,
              "version_minor": 0
            },
            "text/plain": "VBox(children=(Label(value='Toggle the bits below to change the binary number.'), Label(value='Think of a numb…"
          },
          "metadata": {},
          "output_type": "display_data"
        },
        {
          "data": {
            "application/vnd.jupyter.widget-view+json": {
              "model_id": "36d427b07e2249f39941f846cdf04495",
              "version_major": 2,
              "version_minor": 0
            },
            "text/plain": "HTML(value='<pre>Binary   Decimal\\n 00000 = 0</pre>')"
          },
          "metadata": {},
          "output_type": "display_data"
        }
      ],
      "source": "from qiskit_textbook.widgets import binary_widget\nbinary_widget(nbits=5)"
    },
    {
      "cell_type": "markdown",
      "metadata": {},
      "source": "### スケーラブルな回路ウィジェット\n\n[量子フーリエ変換の章](https://qiskit.org/textbook/ch-algorithms/quantum-fourier-transform.html) のような回路を使用する場合、さまざまな量子ビットの数にどのようにスケーリングするかを確認すると便利なことがよくあります。 関数が回路（QuantumCircuit）といくつかの量子ビット（int）を入力として受け取る場合、以下のウィジェットを使用してどのようにスケーリングするかを確認できます。 これらの関数内のコードを変更して、セルを再実行してみてください。"
    },
    {
      "cell_type": "code",
      "execution_count": 13,
      "metadata": {
        "trusted": true
      },
      "outputs": [
        {
          "data": {
            "application/vnd.jupyter.widget-view+json": {
              "model_id": "fe2067e2bdd84720bb982cc3e2b1870a",
              "version_major": 2,
              "version_minor": 0
            },
            "text/plain": "IntSlider(value=4, max=8, min=1)"
          },
          "metadata": {},
          "output_type": "display_data"
        },
        {
          "data": {
            "application/vnd.jupyter.widget-view+json": {
              "model_id": "9352bd420d9a442497bf4a8e81ee824a",
              "version_major": 2,
              "version_minor": 0
            },
            "text/plain": "Image(value=b'\\x89PNG\\r\\n\\x1a\\n\\x00\\x00\\x00\\rIHDR\\x00\\x00\\x04U\\x00\\x00\\x01\\x08\\x08\\x06\\x00\\x00\\x00\\x9eK\\xcbE\\x…"
          },
          "metadata": {},
          "output_type": "display_data"
        }
      ],
      "source": "from qiskit_textbook.widgets import scalable_circuit\nfrom numpy import pi\n\ndef qft_rotations(circuit, n):\n    \"\"\"Performs qft on the first n qubits in circuit (without swaps)\"\"\"\n    if n == 0:\n        return circuit\n    n -= 1\n    circuit.h(n)\n    for qubit in range(n):\n        circuit.cu1(pi/2**(n-qubit), qubit, n)\n    # 関数の最後で、次の量子ビットで同じ関数を再度呼び出します（関数の前半でnを1つ減らしました）\n    qft_rotations(circuit, n)\n\ndef swap_qubits(circuit, n):\n    \"\"\"Reverse the order of qubits\"\"\"\n    for qubit in range(n//2):\n        circuit.swap(qubit, n-qubit-1)\n    return circuit\n\ndef qft(circuit, n):\n    \"\"\"QFT on the first n qubits in circuit\"\"\"\n    qft_rotations(circuit, n)\n    swap_qubits(circuit, n)\n    return circuit\n\nscalable_circuit(qft)"
    },
    {
      "cell_type": "markdown",
      "metadata": {},
      "source": "### ベルンシュタイン-ヴァジラニウィジェット\n\nこのウィジェットを介して、[ベルンシュタイン-ヴァジラニ アルゴリズム](https://qiskit.org/textbook/ch-algorithms/bernstein-vazirani.html) のインスタンスから数学を追跡できます。 ボタンを押して、アルゴリズムのさまざまなステップを適用します。 最初の引数は量子ビットの数を設定し、2番目の引数は非表示のバイナリ文字列を設定してからセルを再実行します。 `hide_oracle = False`を設定してセルを再実行することにより、オラクルの内容を明らかにすることもできます。"
    },
    {
      "cell_type": "code",
      "execution_count": 14,
      "metadata": {
        "trusted": true
      },
      "outputs": [
        {
          "data": {
            "application/vnd.jupyter.widget-view+json": {
              "model_id": "50e30de643e843de9e0ad1ac130c00c3",
              "version_major": 2,
              "version_minor": 0
            },
            "text/plain": "HBox(children=(Button(description='H⊗ⁿ', style=ButtonStyle()), Button(description='Oracle', style=ButtonStyle(…"
          },
          "metadata": {},
          "output_type": "display_data"
        },
        {
          "data": {
            "application/vnd.jupyter.widget-view+json": {
              "model_id": "fb0afeb1820b4ca48ca5e7fa3d659952",
              "version_major": 2,
              "version_minor": 0
            },
            "text/plain": "HTMLMath(value='$$ |00\\\\rangle = |00\\\\rangle $$')"
          },
          "metadata": {},
          "output_type": "display_data"
        },
        {
          "data": {
            "application/vnd.jupyter.widget-view+json": {
              "model_id": "64f21009c63945c08d16da691268e8a3",
              "version_major": 2,
              "version_minor": 0
            },
            "text/plain": "Image(value=b'\\x89PNG\\r\\n\\x1a\\n\\x00\\x00\\x00\\rIHDR\\x00\\x00\\x00\\xce\\x00\\x00\\x00\\xcc\\x08\\x06\\x00\\x00\\x00;\\xd7\\x9c…"
          },
          "metadata": {},
          "output_type": "display_data"
        }
      ],
      "source": "from qiskit_textbook.widgets import bv_widget\nbv_widget(2, \"11\", hide_oracle=True)"
    },
    {
      "cell_type": "markdown",
      "metadata": {},
      "source": "### ドイチュ-ジョザ ウィジェット\n\nベルンシュタイン-ヴァジラニ ウィジェットと同様に、ドイチュ-ジョザ ウィジェットを介して、[ドイチュ-ジョザ アルゴリズム](https://qiskit.org/textbook/ch-algorithms/deutsch-josza.html)のインスタンスから数学を追跡できます。 ボタンを押して、アルゴリズムのさまざまなステップを適用します。 「case」は\"balanced\"または\"constant\"、「size」は\"small\"または\"large\"にすることができます。 ランダムに選択されたオラクルに対してセルを再実行します。 `hide_oracle = False`を設定してセルを再実行することにより、オラクルの内容を明らかにすることもできます。"
    },
    {
      "cell_type": "code",
      "execution_count": 15,
      "metadata": {
        "trusted": true
      },
      "outputs": [
        {
          "data": {
            "application/vnd.jupyter.widget-view+json": {
              "model_id": "173feb349e0343ea974f2c2a64192f56",
              "version_major": 2,
              "version_minor": 0
            },
            "text/plain": "HBox(children=(Button(description='H⊗ⁿ', style=ButtonStyle()), Button(description='Oracle', style=ButtonStyle(…"
          },
          "metadata": {},
          "output_type": "display_data"
        },
        {
          "data": {
            "application/vnd.jupyter.widget-view+json": {
              "model_id": "200ac24fe3cc464ba975182221e94256",
              "version_major": 2,
              "version_minor": 0
            },
            "text/plain": "HTMLMath(value='$$ |0000\\\\rangle = |0000\\\\rangle $$')"
          },
          "metadata": {},
          "output_type": "display_data"
        },
        {
          "data": {
            "application/vnd.jupyter.widget-view+json": {
              "model_id": "1e520ac80d03486c8e4bf41feb4880d9",
              "version_major": 2,
              "version_minor": 0
            },
            "text/plain": "Image(value=b'\\x89PNG\\r\\n\\x1a\\n\\x00\\x00\\x00\\rIHDR\\x00\\x00\\x00\\xce\\x00\\x00\\x01E\\x08\\x06\\x00\\x00\\x00\\xa4\\x1f\\xd2…"
          },
          "metadata": {},
          "output_type": "display_data"
        }
      ],
      "source": "from qiskit_textbook.widgets import dj_widget\ndj_widget(size=\"large\", case=\"balanced\", hide_oracle=True)"
    },
    {
      "cell_type": "code",
      "execution_count": null,
      "metadata": {
        "trusted": true
      },
      "outputs": [],
      "source": ""
    }
  ],
  "metadata": {
    "kernelspec": {
      "display_name": "Python 3",
      "language": "python",
      "name": "python3"
    },
    "language_info": {
      "codemirror_mode": {
        "name": "ipython",
        "version": 3
      },
      "file_extension": ".py",
      "mimetype": "text/x-python",
      "name": "python",
      "nbconvert_exporter": "python",
      "pygments_lexer": "ipython3",
      "version": "3.7.8"
    }
  },
  "nbformat": 4,
  "nbformat_minor": 4
}